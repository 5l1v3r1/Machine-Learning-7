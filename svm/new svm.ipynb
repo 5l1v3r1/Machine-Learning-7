{
 "cells": [
  {
   "cell_type": "code",
   "execution_count": 1,
   "metadata": {
    "collapsed": true
   },
   "outputs": [],
   "source": [
    "# Download data fro3m http://ai.stanford.edu/~amaas/data/sentiment/aclImdb_v1.tar.gz\n",
    "# %lprun -f"
   ]
  },
  {
   "cell_type": "code",
   "execution_count": 2,
   "metadata": {
    "collapsed": true
   },
   "outputs": [],
   "source": [
    "import numpy as np\n",
    "import re\n",
    "import collections\n",
    "import operator\n",
    "from scipy.optimize import minimize\n",
    "import copy\n",
    "\n",
    "from scipy.optimize import fmin_bfgs"
   ]
  },
  {
   "cell_type": "code",
   "execution_count": 3,
   "metadata": {
    "collapsed": true
   },
   "outputs": [],
   "source": [
    "def findDic(text):\n",
    "    words = re.compile('[a-zA-Z\\']*[a-zA-Z]').findall(text)\n",
    "    return collections.Counter(words)"
   ]
  },
  {
   "cell_type": "code",
   "execution_count": 4,
   "metadata": {
    "collapsed": true
   },
   "outputs": [],
   "source": [
    "def readData(directory, paths, limit=None):\n",
    "    if limit:\n",
    "        paths = paths[0:limit]\n",
    "\n",
    "    data = []\n",
    "    for path in paths:\n",
    "        txt = open(directory + path).read()\n",
    "        data.append(txt)\n",
    "    return data\n",
    "        \n",
    "        \n",
    "negDataPath = !ls data/neg/\n",
    "negData = readData('./data/neg/', negDataPath, 1000)\n",
    "\n",
    "posDataPath = !ls data/pos/\n",
    "posData = readData('./data/pos/', posDataPath, 1000)"
   ]
  },
  {
   "cell_type": "code",
   "execution_count": 5,
   "metadata": {
    "collapsed": true
   },
   "outputs": [],
   "source": [
    "negData = [\n",
    "    'I am exhausted of this work.',\n",
    "    \"I can't cooperate with this\",\n",
    "    'I do not enjoy my job',\n",
    "    \"I feel brilliant!\",\n",
    "    'Gary is a friend of mine.',\n",
    "    'The date was good.'\n",
    "]\n",
    "posData = [\n",
    "    'I love this burger.',\n",
    "    'This is an brilliant place!',\n",
    "    'I feel very good about these dates.',\n",
    "    'This is my best work.',\n",
    "    \"What an awesome view\"\n",
    "]\n",
    "\n",
    "test = [\n",
    "    \"I am not feeling well today.\",\n",
    "    \"I can't believe I'm doing this.\",\n",
    "    'The date was good.',\n",
    "    \"I am not feeling well today.\",\n",
    "    \"I can't believe I'm doing this.\",\n",
    "    'I do not enjoy my job'\n",
    "]"
   ]
  },
  {
   "cell_type": "code",
   "execution_count": 6,
   "metadata": {},
   "outputs": [
    {
     "name": "stdout",
     "output_type": "stream",
     "text": [
      "I am exhausted of this work.\n",
      "+++++\n",
      "I love this burger.\n"
     ]
    }
   ],
   "source": [
    "print negData[0]\n",
    "print \"+++++\"\n",
    "print posData[0]"
   ]
  },
  {
   "cell_type": "code",
   "execution_count": 7,
   "metadata": {
    "collapsed": true
   },
   "outputs": [],
   "source": [
    "def findWordCount(data):\n",
    "    wordCount = []\n",
    "    for review in data:\n",
    "        wordCount.append(findDic(review))\n",
    "    return wordCount\n",
    "\n",
    "negDataDic = findWordCount(negData)\n",
    "posDataDic = findWordCount(posData)"
   ]
  },
  {
   "cell_type": "code",
   "execution_count": 8,
   "metadata": {
    "collapsed": true
   },
   "outputs": [],
   "source": [
    "def updateDic(mainDic, dicArray):\n",
    "    mainDic = copy.deepcopy(mainDic)\n",
    "    for dic in dicArray:\n",
    "        mainDic.update(dic)\n",
    "    \n",
    "    # update indexes\n",
    "    for index, key in enumerate(mainDic):\n",
    "        mainDic[ key ] = index\n",
    "        \n",
    "    return mainDic\n",
    "\n",
    "allWords = {}\n",
    "allWords = updateDic(allWords, negDataDic)\n",
    "allWords = updateDic(allWords, posDataDic)"
   ]
  },
  {
   "cell_type": "code",
   "execution_count": 9,
   "metadata": {
    "collapsed": true
   },
   "outputs": [],
   "source": [
    "def findRow(words, text, boolean=False):\n",
    "    row = np.zeros(len(allWords))\n",
    "    wordsDic = findDic(text)\n",
    "    for word in words:\n",
    "        if word in allWords:\n",
    "            row[allWords[word]] = 1 if boolean else wordsDic[word]\n",
    "    return row"
   ]
  },
  {
   "cell_type": "code",
   "execution_count": 10,
   "metadata": {
    "collapsed": true
   },
   "outputs": [],
   "source": [
    "def createTable(allWords, negData, y0, posData, y1):\n",
    "    x = []\n",
    "    for data in negData + posData:\n",
    "        x.append( findRow(allWords, data) )\n",
    "    x = np.row_stack(x)\n",
    "    \n",
    "    y = np.append(y0 * np.ones(len(negData)), y1 * np.ones(len(posData)))\n",
    "    return x, y"
   ]
  },
  {
   "cell_type": "code",
   "execution_count": 11,
   "metadata": {
    "collapsed": true
   },
   "outputs": [],
   "source": [
    "x, y = createTable(allWords, negData, -100, posData, 100)"
   ]
  },
  {
   "cell_type": "code",
   "execution_count": 39,
   "metadata": {
    "scrolled": true
   },
   "outputs": [],
   "source": [
    "def maxFunc(a, x, y):\n",
    "    y1 = np.repeat(x, len(x)).reshape((len(x), len(x)))\n",
    "    \n",
    "    return y1"
   ]
  },
  {
   "cell_type": "code",
   "execution_count": null,
   "metadata": {
    "collapsed": true
   },
   "outputs": [],
   "source": [
    "x = np.array([1,2,3,4,5,6])\n",
    "maxFunc()"
   ]
  },
  {
   "cell_type": "code",
   "execution_count": 42,
   "metadata": {},
   "outputs": [],
   "source": [
    "x = np.array([[1,2,3,4], [5,6,7,8], [9,0,1,2], [3,4,5,6], [7,8,9,0]])"
   ]
  },
  {
   "cell_type": "code",
   "execution_count": 74,
   "metadata": {},
   "outputs": [],
   "source": [
    "x = np.array([[1,2],[3,4]])"
   ]
  },
  {
   "cell_type": "code",
   "execution_count": 76,
   "metadata": {},
   "outputs": [
    {
     "ename": "ValueError",
     "evalue": "cannot reshape array of size 8 into shape (4,5,5)",
     "output_type": "error",
     "traceback": [
      "\u001b[0;31m---------------------------------------------------------------------------\u001b[0m",
      "\u001b[0;31mValueError\u001b[0m                                Traceback (most recent call last)",
      "\u001b[0;32m<ipython-input-76-24c6592a5735>\u001b[0m in \u001b[0;36m<module>\u001b[0;34m()\u001b[0m\n\u001b[0;32m----> 1\u001b[0;31m \u001b[0mxx\u001b[0m \u001b[0;34m=\u001b[0m \u001b[0mnp\u001b[0m\u001b[0;34m.\u001b[0m\u001b[0marray\u001b[0m\u001b[0;34m(\u001b[0m\u001b[0;34m[\u001b[0m\u001b[0mi\u001b[0m \u001b[0;32mfor\u001b[0m \u001b[0mi\u001b[0m \u001b[0;32min\u001b[0m \u001b[0mx\u001b[0m \u001b[0;32mfor\u001b[0m \u001b[0m_\u001b[0m \u001b[0;32min\u001b[0m \u001b[0mrange\u001b[0m\u001b[0;34m(\u001b[0m\u001b[0mlen\u001b[0m\u001b[0;34m(\u001b[0m\u001b[0mx\u001b[0m\u001b[0;34m)\u001b[0m\u001b[0;34m)\u001b[0m\u001b[0;34m]\u001b[0m\u001b[0;34m)\u001b[0m\u001b[0;34m.\u001b[0m\u001b[0mreshape\u001b[0m\u001b[0;34m(\u001b[0m\u001b[0;36m4\u001b[0m\u001b[0;34m,\u001b[0m\u001b[0;36m5\u001b[0m\u001b[0;34m,\u001b[0m\u001b[0;36m5\u001b[0m\u001b[0;34m)\u001b[0m\u001b[0;34m\u001b[0m\u001b[0m\n\u001b[0m",
      "\u001b[0;31mValueError\u001b[0m: cannot reshape array of size 8 into shape (4,5,5)"
     ]
    }
   ],
   "source": [
    "xx = np.array([i for i in x for _ in range(len(x))]).reshape(4,5,5)"
   ]
  },
  {
   "cell_type": "code",
   "execution_count": 73,
   "metadata": {},
   "outputs": [
    {
     "data": {
      "text/plain": [
       "array([[[1, 2, 3, 4, 1],\n",
       "        [2, 3, 4, 1, 2],\n",
       "        [3, 4, 1, 2, 3],\n",
       "        [4, 1, 2, 3, 4],\n",
       "        [5, 6, 7, 8, 5]],\n",
       "\n",
       "       [[6, 7, 8, 5, 6],\n",
       "        [7, 8, 5, 6, 7],\n",
       "        [8, 5, 6, 7, 8],\n",
       "        [9, 0, 1, 2, 9],\n",
       "        [0, 1, 2, 9, 0]],\n",
       "\n",
       "       [[1, 2, 9, 0, 1],\n",
       "        [2, 9, 0, 1, 2],\n",
       "        [3, 4, 5, 6, 3],\n",
       "        [4, 5, 6, 3, 4],\n",
       "        [5, 6, 3, 4, 5]],\n",
       "\n",
       "       [[6, 3, 4, 5, 6],\n",
       "        [7, 8, 9, 0, 7],\n",
       "        [8, 9, 0, 7, 8],\n",
       "        [9, 0, 7, 8, 9],\n",
       "        [0, 7, 8, 9, 0]]])"
      ]
     },
     "execution_count": 73,
     "metadata": {},
     "output_type": "execute_result"
    }
   ],
   "source": [
    "xx"
   ]
  },
  {
   "cell_type": "code",
   "execution_count": null,
   "metadata": {
    "collapsed": true
   },
   "outputs": [],
   "source": []
  },
  {
   "cell_type": "code",
   "execution_count": null,
   "metadata": {
    "collapsed": true
   },
   "outputs": [],
   "source": []
  }
 ],
 "metadata": {
  "kernelspec": {
   "display_name": "Python 2",
   "language": "python",
   "name": "python2"
  },
  "language_info": {
   "codemirror_mode": {
    "name": "ipython",
    "version": 2
   },
   "file_extension": ".py",
   "mimetype": "text/x-python",
   "name": "python",
   "nbconvert_exporter": "python",
   "pygments_lexer": "ipython2",
   "version": "2.7.13"
  }
 },
 "nbformat": 4,
 "nbformat_minor": 2
}
