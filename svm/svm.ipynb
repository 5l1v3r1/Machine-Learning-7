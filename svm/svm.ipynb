{
 "cells": [
  {
   "cell_type": "code",
   "execution_count": null,
   "metadata": {
    "collapsed": true
   },
   "outputs": [],
   "source": [
    "# Download data from http://ai.stanford.edu/~amaas/data/sentiment/aclImdb_v1.tar.gz"
   ]
  },
  {
   "cell_type": "code",
   "execution_count": null,
   "metadata": {
    "collapsed": true
   },
   "outputs": [],
   "source": [
    "import numpy as np\n",
    "import re\n",
    "import collections\n",
    "import operator"
   ]
  },
  {
   "cell_type": "code",
   "execution_count": null,
   "metadata": {
    "collapsed": true
   },
   "outputs": [],
   "source": [
    "# Read data\n",
    "negDataPath = !ls data/neg/\n",
    "posDataPath = !ls data/pos/\n",
    "\n",
    "# Read only 1000 neg and 1000 pos data\n",
    "negDataPath = negDataPath[0:1000]\n",
    "posDataPath = posDataPath[0:1000]\n",
    "\n",
    "negData = np.array([])\n",
    "posData = np.array([])\n",
    "\n",
    "for i in negDataPath:\n",
    "    txt = open('./data/neg/' + i).read()\n",
    "    negData = np.append(negData, txt)\n",
    "    \n",
    "for i in posDataPath:\n",
    "    txt = open('./data/pos/' + i).read()\n",
    "    posData = np.append(posData, txt)"
   ]
  },
  {
   "cell_type": "code",
   "execution_count": null,
   "metadata": {
    "collapsed": true
   },
   "outputs": [],
   "source": [
    "# Find words count\n",
    "negDataDic = np.array([])\n",
    "posDataDic = np.array([])\n",
    "allWords = {}\n",
    "\n",
    "for review in negData:\n",
    "    words = re.compile('[a-zA-Z\\']*[a-zA-Z]').findall(review)\n",
    "    wordsDic = collections.Counter(words)\n",
    "    negDataDic = np.append(negDataDic, wordsDic)\n",
    "    allWords.update(wordsDic)\n",
    "    \n",
    "for review in posData:\n",
    "    words = re.compile('[a-zA-Z\\']*[a-zA-Z]').findall(review)\n",
    "    wordsDic = collections.Counter(words)\n",
    "    posDataDic = np.append(posDataDic, wordsDic)\n",
    "    allWords.update(wordsDic)"
   ]
  },
  {
   "cell_type": "code",
   "execution_count": null,
   "metadata": {
    "collapsed": true
   },
   "outputs": [],
   "source": [
    "index = 0\n",
    "for key in allWords:\n",
    "    allWords[key] = index * 1\n",
    "    index+=1"
   ]
  },
  {
   "cell_type": "code",
   "execution_count": null,
   "metadata": {
    "collapsed": true
   },
   "outputs": [],
   "source": [
    "def findRow(allWords, text):\n",
    "    row = np.zeros(len(allWords))\n",
    "    words = re.compile('[a-zA-Z\\']*[a-zA-Z]').findall(text)\n",
    "    wordsDic = collections.Counter(words)\n",
    "    for word in words:\n",
    "        if word in allWords:\n",
    "            row[allWords[word]] = wordsDic[word]\n",
    "    return row"
   ]
  },
  {
   "cell_type": "code",
   "execution_count": null,
   "metadata": {},
   "outputs": [],
   "source": [
    "findRow(allWords, \"fawn salam woody foul Dob dob Dob\")"
   ]
  }
 ],
 "metadata": {
  "kernelspec": {
   "display_name": "Python 2",
   "language": "python",
   "name": "python2"
  },
  "language_info": {
   "codemirror_mode": {
    "name": "ipython",
    "version": 2
   },
   "file_extension": ".py",
   "mimetype": "text/x-python",
   "name": "python",
   "nbconvert_exporter": "python",
   "pygments_lexer": "ipython2",
   "version": "2.7.13"
  }
 },
 "nbformat": 4,
 "nbformat_minor": 2
}
