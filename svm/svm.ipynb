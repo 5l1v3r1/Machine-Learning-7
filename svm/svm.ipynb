{
 "cells": [
  {
   "cell_type": "code",
   "execution_count": 1,
   "metadata": {
    "collapsed": true
   },
   "outputs": [],
   "source": [
    "# Download data fro3m http://ai.stanford.edu/~amaas/data/sentiment/aclImdb_v1.tar.gz\n",
    "# %lprun -f"
   ]
  },
  {
   "cell_type": "code",
   "execution_count": 2,
   "metadata": {
    "collapsed": true
   },
   "outputs": [],
   "source": [
    "import numpy as np\n",
    "import re\n",
    "import collections\n",
    "import operator\n",
    "from scipy.optimize import minimize\n",
    "import copy\n",
    "\n",
    "from scipy.optimize import fmin_bfgs"
   ]
  },
  {
   "cell_type": "code",
   "execution_count": 3,
   "metadata": {
    "collapsed": true
   },
   "outputs": [],
   "source": [
    "def findDic(text):\n",
    "    words = re.compile('[a-zA-Z\\']*[a-zA-Z]').findall(text)\n",
    "    return collections.Counter(words)"
   ]
  },
  {
   "cell_type": "code",
   "execution_count": 4,
   "metadata": {
    "collapsed": true
   },
   "outputs": [],
   "source": [
    "def readData(directory, paths, limit=None):\n",
    "    if limit:\n",
    "        paths = paths[0:limit]\n",
    "\n",
    "    data = []\n",
    "    for path in paths:\n",
    "        txt = open(directory + path).read()\n",
    "        data.append(txt)\n",
    "    return data\n",
    "        \n",
    "        \n",
    "negDataPath = !ls data/neg/\n",
    "negData = readData('./data/neg/', negDataPath, 100)\n",
    "\n",
    "posDataPath = !ls data/pos/\n",
    "posData = readData('./data/pos/', posDataPath, 100)"
   ]
  },
  {
   "cell_type": "code",
   "execution_count": 5,
   "metadata": {
    "collapsed": true
   },
   "outputs": [],
   "source": [
    "def findWordCount(data):\n",
    "    wordCount = []\n",
    "    for review in data:\n",
    "        wordCount.append(findDic(review))\n",
    "    return wordCount\n",
    "\n",
    "negDataDic = findWordCount(negData)\n",
    "posDataDic = findWordCount(posData)"
   ]
  },
  {
   "cell_type": "code",
   "execution_count": 6,
   "metadata": {
    "collapsed": true
   },
   "outputs": [],
   "source": [
    "def updateDic(mainDic, dicArray):\n",
    "    mainDic = copy.deepcopy(mainDic)\n",
    "    for dic in dicArray:\n",
    "        mainDic.update(dic)\n",
    "    \n",
    "    # update indexes\n",
    "    for index, key in enumerate(mainDic):\n",
    "        mainDic[ key ] = index\n",
    "        \n",
    "    return mainDic\n",
    "\n",
    "allWords = {}\n",
    "allWords = updateDic(allWords, negDataDic)\n",
    "allWords = updateDic(allWords, posDataDic)"
   ]
  },
  {
   "cell_type": "code",
   "execution_count": 7,
   "metadata": {
    "collapsed": true
   },
   "outputs": [],
   "source": [
    "def findRow(words, text, boolean=False):\n",
    "    row = np.zeros(len(allWords))\n",
    "    wordsDic = findDic(text)\n",
    "    for word in words:\n",
    "        if word in allWords:\n",
    "            row[allWords[word]] = 1 if boolean else wordsDic[word]\n",
    "    return row"
   ]
  },
  {
   "cell_type": "code",
   "execution_count": 8,
   "metadata": {
    "collapsed": true
   },
   "outputs": [],
   "source": [
    "def createTable(allWords, negData, y0, posData, y1):\n",
    "    x = []\n",
    "    for data in negData + posData:\n",
    "        x.append( findRow(allWords, data) )\n",
    "    x = np.row_stack(x)\n",
    "    \n",
    "    y = np.append(y0 * np.ones(len(negData)), y1 * np.ones(len(posData)))\n",
    "    return x, y"
   ]
  },
  {
   "cell_type": "code",
   "execution_count": 9,
   "metadata": {
    "collapsed": true
   },
   "outputs": [],
   "source": [
    "x, y = createTable(allWords, negData, -1, posData, 1)"
   ]
  },
  {
   "cell_type": "code",
   "execution_count": null,
   "metadata": {
    "collapsed": true
   },
   "outputs": [],
   "source": [
    "# def cost(w, b, c, x, y):\n",
    "#     p = 1 - y * (x.dot(w) + b)\n",
    "#     p[p<0] = 0\n",
    "#     p = p**2\n",
    "#     return w.dot(w.T) + c * p.sum()"
   ]
  },
  {
   "cell_type": "code",
   "execution_count": null,
   "metadata": {
    "collapsed": true
   },
   "outputs": [],
   "source": [
    "# M = len(allWords)\n",
    "# w = np.zeros(M)\n",
    "# b = 0\n",
    "# c = 100\n",
    "\n",
    "# cost(w, b, c, x, y)"
   ]
  },
  {
   "cell_type": "code",
   "execution_count": null,
   "metadata": {
    "collapsed": true
   },
   "outputs": [],
   "source": [
    "# M = len(allWords)\n",
    "# w = np.zeros(M)\n",
    "# b = 0\n",
    "# c = 100\n",
    " \n",
    "# Nfeval = 1\n",
    "# print '{0:s}  {1:s}'.format('iter', 'cost')\n",
    "# def callbackF(Xi):\n",
    "#     global Nfeval\n",
    "#     global b, c, x, y\n",
    "#     print '{0:4d}  {1:f}'.format(Nfeval, cost(np.array(Xi), b, c, x, y))\n",
    "#     Nfeval += 1\n",
    "    \n",
    "# res = minimize(cost, w, method='Nelder-Mead', args=(b, c, x, y), options={'xtol': 1e-8, 'disp': True, 'maxiter': 5}, callback=callbackF)\n",
    "# res.x"
   ]
  },
  {
   "cell_type": "code",
   "execution_count": 16,
   "metadata": {
    "collapsed": true
   },
   "outputs": [],
   "source": [
    "# def newCost(w):\n",
    "#     return .5 * w.dot(w.T)"
   ]
  },
  {
   "cell_type": "code",
   "execution_count": 15,
   "metadata": {
    "collapsed": true
   },
   "outputs": [],
   "source": [
    "# def newConstraint(w, y, x, b, index):\n",
    "#     return int( y[index] * (x[index].dot(w) + b) - 1 )"
   ]
  },
  {
   "cell_type": "code",
   "execution_count": null,
   "metadata": {
    "collapsed": true
   },
   "outputs": [],
   "source": [
    "# w = np.zeros( len(allWords) )\n",
    "# b = 0\n",
    "# cons = [{'type': 'ineq', 'fun': newConstraint, 'args': (ny, nx, b, index)} for index in range(len(x))]"
   ]
  },
  {
   "cell_type": "code",
   "execution_count": null,
   "metadata": {
    "collapsed": true
   },
   "outputs": [],
   "source": [
    "# Nfeval = 1\n",
    "# print '{0:s}  {1:s}'.format('iter', 'cost')\n",
    "# def callbackF(Xi):\n",
    "#     global Nfeval\n",
    "#     print '{0:4d}  {1:f}'.format(Nfeval, newCost(np.array(Xi)))\n",
    "#     Nfeval += 1\n",
    "    \n",
    "# solution = minimize(newCost, w, method='SLSQP', constraints=cons, callback=callbackF)"
   ]
  }
 ],
 "metadata": {
  "kernelspec": {
   "display_name": "Python 2",
   "language": "python",
   "name": "python2"
  },
  "language_info": {
   "codemirror_mode": {
    "name": "ipython",
    "version": 2
   },
   "file_extension": ".py",
   "mimetype": "text/x-python",
   "name": "python",
   "nbconvert_exporter": "python",
   "pygments_lexer": "ipython2",
   "version": "2.7.13"
  }
 },
 "nbformat": 4,
 "nbformat_minor": 2
}
