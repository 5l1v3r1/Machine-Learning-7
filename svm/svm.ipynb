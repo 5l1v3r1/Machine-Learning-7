{
 "cells": [
  {
   "cell_type": "code",
   "execution_count": 1,
   "metadata": {
    "collapsed": true
   },
   "outputs": [],
   "source": [
    "# Download data fro3m http://ai.stanford.edu/~amaas/data/sentiment/aclImdb_v1.tar.gz\n",
    "# %lprun -f"
   ]
  },
  {
   "cell_type": "code",
   "execution_count": 118,
   "metadata": {},
   "outputs": [],
   "source": [
    "import numpy as np\n",
    "import re\n",
    "import collections\n",
    "import operator\n",
    "from scipy.optimize import minimize\n",
    "import copy\n",
    "import cvxopt\n",
    "import scipy.io as sio\n",
    "\n",
    "from scipy.optimize import fmin_bfgs"
   ]
  },
  {
   "cell_type": "code",
   "execution_count": 119,
   "metadata": {
    "collapsed": true
   },
   "outputs": [],
   "source": [
    "def findDic(text):\n",
    "    words = re.compile('[a-zA-Z\\']*[a-zA-Z]').findall(text)\n",
    "    return collections.Counter(words)"
   ]
  },
  {
   "cell_type": "code",
   "execution_count": 120,
   "metadata": {
    "collapsed": true
   },
   "outputs": [],
   "source": [
    "def readData(directory, paths, limit=None):\n",
    "    if limit:\n",
    "        paths = paths[0:limit]\n",
    "\n",
    "    data = []\n",
    "    for path in paths:\n",
    "        txt = open(directory + path).read()\n",
    "        data.append(txt)\n",
    "    return data\n",
    "        \n",
    "        \n",
    "negDataPath = !ls data/neg/\n",
    "negData = readData('./data/neg/', negDataPath, 1000)\n",
    "\n",
    "posDataPath = !ls data/pos/\n",
    "posData = readData('./data/pos/', posDataPath, 1000)"
   ]
  },
  {
   "cell_type": "code",
   "execution_count": 121,
   "metadata": {
    "collapsed": true
   },
   "outputs": [],
   "source": [
    "# negData = [\n",
    "#     'I am exhausted of this work.',\n",
    "#     \"I can't cooperate with this\",\n",
    "#     'I do not enjoy my job',\n",
    "#     \"I feel brilliant!\",\n",
    "#     'Gary is a friend of mine.',\n",
    "#     'The date was good.'\n",
    "# ]\n",
    "# posData = [\n",
    "#     'I love this burger.',\n",
    "#     'This is an brilliant place!',\n",
    "#     'I feel very good about these dates.',\n",
    "#     'This is my best work.',\n",
    "#     \"What an awesome view\"\n",
    "# ]\n",
    "\n",
    "# test = [\n",
    "#     \"I am not feeling well today.\",\n",
    "#     \"I can't believe I'm doing this.\",\n",
    "#     'The date was good.',\n",
    "#     \"I am not feeling well today.\",\n",
    "#     \"I can't believe I'm doing this.\",\n",
    "#     'I do not enjoy my job'\n",
    "# ]"
   ]
  },
  {
   "cell_type": "code",
   "execution_count": 122,
   "metadata": {
    "scrolled": true
   },
   "outputs": [],
   "source": [
    "data = sio.loadmat('data/mpqa/bigram_mpqa.mat')"
   ]
  },
  {
   "cell_type": "code",
   "execution_count": 123,
   "metadata": {},
   "outputs": [],
   "source": [
    "data_samples = []\n",
    "for line in open('data/mpqa/mpqa_t4.dat', 'r'):\n",
    "    data_samples.append(line.split())"
   ]
  },
  {
   "cell_type": "code",
   "execution_count": 124,
   "metadata": {},
   "outputs": [],
   "source": [
    "x = [' '.join(line[1:]) for line in data_samples]\n",
    "y = [int(line[0]) for line in data_samples]"
   ]
  },
  {
   "cell_type": "code",
   "execution_count": 125,
   "metadata": {},
   "outputs": [],
   "source": [
    "posData = [x[i] for i in xrange(len(x)) if y[i] == 1]\n",
    "negData = [x[i] for i in xrange(len(x)) if y[i] == 0]"
   ]
  },
  {
   "cell_type": "code",
   "execution_count": 126,
   "metadata": {},
   "outputs": [
    {
     "name": "stdout",
     "output_type": "stream",
     "text": [
      "complaining\n",
      "+++++\n",
      "are also being encouraged\n"
     ]
    }
   ],
   "source": [
    "print negData[0]\n",
    "print \"+++++\"\n",
    "print posData[0]"
   ]
  },
  {
   "cell_type": "code",
   "execution_count": 127,
   "metadata": {
    "collapsed": true
   },
   "outputs": [],
   "source": [
    "negData = negData[2000:]\n",
    "posData = posData[2000:]"
   ]
  },
  {
   "cell_type": "code",
   "execution_count": 128,
   "metadata": {
    "collapsed": true
   },
   "outputs": [],
   "source": [
    "testNegData = negData[:2000]\n",
    "testPosData = posData[:2000]"
   ]
  },
  {
   "cell_type": "code",
   "execution_count": 129,
   "metadata": {
    "collapsed": true
   },
   "outputs": [],
   "source": [
    "def findWordCount(data):\n",
    "    wordCount = []\n",
    "    for review in data:\n",
    "        wordCount.append(findDic(review))\n",
    "    return wordCount\n",
    "\n",
    "negDataDic = findWordCount(negData)\n",
    "posDataDic = findWordCount(posData)"
   ]
  },
  {
   "cell_type": "code",
   "execution_count": 130,
   "metadata": {
    "collapsed": true
   },
   "outputs": [],
   "source": [
    "def updateDic(mainDic, dicArray):\n",
    "    mainDic = copy.deepcopy(mainDic)\n",
    "    for dic in dicArray:\n",
    "        mainDic.update(dic)\n",
    "    \n",
    "    # update indexes\n",
    "    for index, key in enumerate(mainDic):\n",
    "        mainDic[ key ] = index\n",
    "        \n",
    "    return mainDic\n",
    "\n",
    "allWords = {}\n",
    "allWords = updateDic(allWords, negDataDic)\n",
    "allWords = updateDic(allWords, posDataDic)"
   ]
  },
  {
   "cell_type": "code",
   "execution_count": 131,
   "metadata": {
    "collapsed": true
   },
   "outputs": [],
   "source": [
    "def findRow(words, text, boolean=False):\n",
    "    row = np.zeros(len(allWords))\n",
    "    wordsDic = findDic(text)\n",
    "    for word in words:\n",
    "        if word in allWords:\n",
    "            row[allWords[word]] = 1 if boolean else wordsDic[word]\n",
    "    return row"
   ]
  },
  {
   "cell_type": "code",
   "execution_count": 132,
   "metadata": {
    "collapsed": true
   },
   "outputs": [],
   "source": [
    "def createTable(allWords, negData, y0, posData, y1):\n",
    "    x = []\n",
    "    for data in negData + posData:\n",
    "        x.append( findRow(allWords, data) )\n",
    "    x = np.row_stack(x)\n",
    "    \n",
    "    y = np.append(y0 * np.ones(len(negData)), y1 * np.ones(len(posData)))\n",
    "    return x, y"
   ]
  },
  {
   "cell_type": "code",
   "execution_count": null,
   "metadata": {
    "collapsed": true
   },
   "outputs": [],
   "source": []
  },
  {
   "cell_type": "code",
   "execution_count": 155,
   "metadata": {
    "collapsed": true
   },
   "outputs": [],
   "source": [
    "x, y = createTable(allWords, negData, -1, posData, 1)"
   ]
  },
  {
   "cell_type": "code",
   "execution_count": 156,
   "metadata": {
    "collapsed": true
   },
   "outputs": [],
   "source": [
    "M = len(x)\n",
    "k = np.zeros( (M, M) )"
   ]
  },
  {
   "cell_type": "code",
   "execution_count": 157,
   "metadata": {
    "collapsed": true
   },
   "outputs": [],
   "source": [
    "for i in xrange(M):\n",
    "    for j in xrange(M):\n",
    "        k[i][j] = np.dot(x[i].T, x[j])"
   ]
  },
  {
   "cell_type": "code",
   "execution_count": 158,
   "metadata": {
    "scrolled": false
   },
   "outputs": [
    {
     "name": "stdout",
     "output_type": "stream",
     "text": [
      "     pcost       dcost       gap    pres   dres\n",
      " 0:  1.5661e+20 -4.2776e+21  1e+22  7e-01  1e-05\n",
      " 1:  1.9048e+20 -2.0508e+21  3e+21  2e-01  1e+01\n",
      " 2:  1.1907e+20 -4.6981e+20  7e+20  2e-02  2e+00\n",
      " 3:  5.0741e+19 -1.8691e+20  3e+20  6e-03  5e-01\n",
      " 4:  1.8904e+19 -7.5548e+19  1e+20  8e-04  5e-02\n",
      " 5:  7.7127e+18 -3.2811e+19  4e+19  3e-04  1e-02\n",
      " 6:  2.3405e+18 -9.4332e+18  1e+19  1e-03  2e-03\n",
      " 7:  1.0259e+18 -4.6222e+18  6e+18  6e-04  2e-04\n",
      " 8:  3.1434e+17 -1.3750e+18  2e+18  1e-03  4e-05\n",
      " 9:  1.2304e+17 -5.4971e+17  7e+17  9e-04  5e-06\n",
      "10:  6.5836e+16 -2.9724e+17  4e+17  5e-04  2e-06\n",
      "11:  2.6967e+16 -1.1326e+17  1e+17  3e-04  1e-06\n",
      "12:  1.2498e+16 -5.5409e+16  7e+16  1e-04  1e-06\n",
      "13:  3.0831e+15 -1.0573e+16  1e+16  3e-04  1e-06\n",
      "14:  5.8228e+14 -1.3307e+15  2e+15  2e-04  1e-06\n",
      "15:  9.5118e+13 -1.4032e+14  2e+14  4e-04  1e-06\n",
      "16:  1.3980e+13 -1.8418e+13  3e+13  7e-05  1e-06\n",
      "17:  2.0601e+12 -3.6425e+12  6e+12  3e-04  1e-06\n",
      "18:  5.6187e+11 -1.5642e+12  2e+12  8e-05  2e-06\n",
      "19:  1.7546e+11 -9.1546e+11  1e+12  3e-05  1e-06\n",
      "20: -2.9376e+09 -5.6196e+11  6e+11  4e-04  1e-06\n",
      "21: -1.1018e+11 -3.2118e+11  2e+11  3e-04  2e-06\n",
      "22: -1.5577e+11 -1.9670e+11  4e+10  4e-04  2e-06\n",
      "23: -1.6624e+11 -1.7020e+11  4e+09  2e-04  2e-06\n",
      "24: -1.6772e+11 -1.6843e+11  7e+08  3e-04  2e-06\n",
      "25: -1.6795e+11 -1.6807e+11  1e+08  1e-03  2e-06\n",
      "26: -1.6799e+11 -1.6802e+11  3e+07  9e-04  2e-06\n",
      "27: -1.6800e+11 -1.6800e+11  4e+06  8e-04  2e-06\n",
      "28: -1.6800e+11 -1.6800e+11  2e+06  1e-03  2e-06\n",
      "29: -1.6800e+11 -1.6800e+11  2e+06  5e-06  2e-06\n",
      "30: -1.6800e+11 -1.6800e+11  2e+06  3e-04  1e-06\n",
      "31: -1.6800e+11 -1.6800e+11  2e+06  8e-05  1e-06\n",
      "32: -1.6800e+11 -1.6800e+11  1e+06  3e-04  1e-06\n",
      "33: -1.6800e+11 -1.6800e+11  1e+06  2e-04  1e-06\n",
      "34: -1.6800e+11 -1.6800e+11  9e+05  3e-04  1e-06\n",
      "35: -1.6800e+11 -1.6800e+11  8e+05  6e-04  1e-06\n",
      "36: -1.6800e+11 -1.6800e+11  7e+05  1e-04  1e-06\n",
      "37: -1.6800e+11 -1.6800e+11  6e+05  5e-04  1e-06\n",
      "Terminated (singular KKT matrix).\n"
     ]
    }
   ],
   "source": [
    "P = cvxopt.matrix(np.outer(y, y) * k)\n",
    "q = cvxopt.matrix(np.ones(M) * -1)\n",
    "\n",
    "G = cvxopt.matrix(np.vstack([\n",
    "    np.eye(M) * -1,\n",
    "    np.eye(M)\n",
    "    ]))\n",
    "\n",
    "h = cvxopt.matrix(np.hstack([\n",
    "    np.zeros(M),\n",
    "    np.ones(M) * 999999999.0\n",
    "    ]))\n",
    "\n",
    "A = cvxopt.matrix(y, (1,M))\n",
    "b = cvxopt.matrix(0.0)\n",
    "\n",
    "solution = cvxopt.solvers.qp(P, q, G, h, A, b)"
   ]
  },
  {
   "cell_type": "code",
   "execution_count": 159,
   "metadata": {},
   "outputs": [],
   "source": [
    "a = solution['x']"
   ]
  },
  {
   "cell_type": "code",
   "execution_count": 160,
   "metadata": {},
   "outputs": [
    {
     "ename": "NameError",
     "evalue": "name 'test' is not defined",
     "output_type": "error",
     "traceback": [
      "\u001b[0;31m---------------------------------------------------------------------------\u001b[0m",
      "\u001b[0;31mNameError\u001b[0m                                 Traceback (most recent call last)",
      "\u001b[0;32m<ipython-input-160-fdf137668ac9>\u001b[0m in \u001b[0;36m<module>\u001b[0;34m()\u001b[0m\n\u001b[0;32m----> 1\u001b[0;31m \u001b[0mfindRow\u001b[0m\u001b[0;34m(\u001b[0m\u001b[0mallWords\u001b[0m\u001b[0;34m,\u001b[0m \u001b[0mtest\u001b[0m\u001b[0;34m[\u001b[0m\u001b[0;36m0\u001b[0m\u001b[0;34m]\u001b[0m\u001b[0;34m)\u001b[0m\u001b[0;34m\u001b[0m\u001b[0m\n\u001b[0m",
      "\u001b[0;31mNameError\u001b[0m: name 'test' is not defined"
     ]
    }
   ],
   "source": [
    "findRow(allWords, test[0])"
   ]
  },
  {
   "cell_type": "code",
   "execution_count": null,
   "metadata": {},
   "outputs": [],
   "source": [
    "a"
   ]
  },
  {
   "cell_type": "code",
   "execution_count": null,
   "metadata": {
    "collapsed": true
   },
   "outputs": [],
   "source": [
    "w = np.zeros(len(x[0]))"
   ]
  },
  {
   "cell_type": "code",
   "execution_count": null,
   "metadata": {},
   "outputs": [],
   "source": [
    "for i in xrange(len(a)):\n",
    "    w += a[i] * y[i] * x[i]"
   ]
  },
  {
   "cell_type": "code",
   "execution_count": null,
   "metadata": {},
   "outputs": [],
   "source": [
    "w"
   ]
  },
  {
   "cell_type": "code",
   "execution_count": null,
   "metadata": {},
   "outputs": [],
   "source": [
    "w.dot( findRow(allWords, negData[1]) )"
   ]
  },
  {
   "cell_type": "code",
   "execution_count": null,
   "metadata": {
    "collapsed": true
   },
   "outputs": [],
   "source": [
    "negMax = None\n",
    "for i in negData:\n",
    "    t = w.dot( findRow(allWords, negData[1]) )\n",
    "    if not negMax or t > negMax:\n",
    "        negMax = t"
   ]
  },
  {
   "cell_type": "code",
   "execution_count": null,
   "metadata": {
    "collapsed": true
   },
   "outputs": [],
   "source": [
    "posMin = None\n",
    "for i in posData:\n",
    "    t = w.dot( findRow(allWords, posData[1]) )\n",
    "    if not posMin or t < posMin:\n",
    "        posMin = t"
   ]
  },
  {
   "cell_type": "code",
   "execution_count": null,
   "metadata": {
    "collapsed": true
   },
   "outputs": [],
   "source": [
    "b = (negMax+posMin)/2"
   ]
  },
  {
   "cell_type": "code",
   "execution_count": null,
   "metadata": {},
   "outputs": [],
   "source": [
    "b"
   ]
  },
  {
   "cell_type": "code",
   "execution_count": null,
   "metadata": {},
   "outputs": [],
   "source": [
    "w.dot( findRow(allWords, negData[0]) )"
   ]
  },
  {
   "cell_type": "code",
   "execution_count": null,
   "metadata": {
    "collapsed": true
   },
   "outputs": [],
   "source": [
    "correct = 0\n",
    "error_pos = []\n",
    "for i in testPosData:\n",
    "    if w.dot( findRow(allWords, i) ) > 0:\n",
    "        correct += 1\n",
    "for i in testNegData:\n",
    "    if w.dot( findRow(allWords, i) ) < 0:\n",
    "        correct += 1"
   ]
  },
  {
   "cell_type": "code",
   "execution_count": null,
   "metadata": {},
   "outputs": [],
   "source": [
    "correct*1. / (len(testPosData) + len(testNegData))"
   ]
  },
  {
   "cell_type": "code",
   "execution_count": null,
   "metadata": {},
   "outputs": [],
   "source": [
    "(len(posData) + len(negData))"
   ]
  },
  {
   "cell_type": "code",
   "execution_count": 162,
   "metadata": {},
   "outputs": [
    {
     "data": {
      "text/plain": [
       "['0']"
      ]
     },
     "execution_count": 162,
     "metadata": {},
     "output_type": "execute_result"
    }
   ],
   "source": [
    "import re\n",
    "re.compile('^[01]').findall('065 fdsafad 0fasf asf0asdf0sad0')"
   ]
  },
  {
   "cell_type": "code",
   "execution_count": null,
   "metadata": {
    "collapsed": true
   },
   "outputs": [],
   "source": []
  }
 ],
 "metadata": {
  "kernelspec": {
   "display_name": "Python 2",
   "language": "python",
   "name": "python2"
  },
  "language_info": {
   "codemirror_mode": {
    "name": "ipython",
    "version": 2
   },
   "file_extension": ".py",
   "mimetype": "text/x-python",
   "name": "python",
   "nbconvert_exporter": "python",
   "pygments_lexer": "ipython2",
   "version": "2.7.13"
  }
 },
 "nbformat": 4,
 "nbformat_minor": 2
}
