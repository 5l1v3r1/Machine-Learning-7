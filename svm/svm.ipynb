{
 "cells": [
  {
   "cell_type": "code",
   "execution_count": 3,
   "metadata": {
    "collapsed": true
   },
   "outputs": [],
   "source": [
    "# Download data from http://ai.stanford.edu/~amaas/data/sentiment/aclImdb_v1.tar.gz"
   ]
  },
  {
   "cell_type": "code",
   "execution_count": 4,
   "metadata": {
    "collapsed": true
   },
   "outputs": [],
   "source": [
    "import numpy as np\n",
    "import re\n",
    "import collections\n",
    "import operator\n",
    "from scipy import optimize as opt"
   ]
  },
  {
   "cell_type": "code",
   "execution_count": 5,
   "metadata": {
    "collapsed": true
   },
   "outputs": [],
   "source": [
    "# Read data\n",
    "negDataPath = !ls data/neg/\n",
    "posDataPath = !ls data/pos/\n",
    "\n",
    "# Read only 1000 neg and 1000 pos data\n",
    "N = 200\n",
    "negDataPath = negDataPath[0:N/2]\n",
    "posDataPath = posDataPath[0:N/2]\n",
    "\n",
    "negData = []\n",
    "posData = []\n",
    "\n",
    "for i in negDataPath:\n",
    "    txt = open('./data/neg/' + i).read()\n",
    "    negData.append(txt)\n",
    "    \n",
    "for i in posDataPath:\n",
    "    txt = open('./data/pos/' + i).read()\n",
    "    posData.append(txt)"
   ]
  },
  {
   "cell_type": "code",
   "execution_count": 6,
   "metadata": {
    "collapsed": true
   },
   "outputs": [],
   "source": [
    "# Find words count\n",
    "negDataDic = np.array([])\n",
    "posDataDic = np.array([])\n",
    "allWords = {}\n",
    "\n",
    "for review in negData:\n",
    "    words = re.compile('[a-zA-Z\\']*[a-zA-Z]').findall(review)\n",
    "    wordsDic = collections.Counter(words)\n",
    "    negDataDic = np.append(negDataDic, wordsDic)\n",
    "    allWords.update(wordsDic)\n",
    "    \n",
    "for review in posData:\n",
    "    words = re.compile('[a-zA-Z\\']*[a-zA-Z]').findall(review)\n",
    "    wordsDic = collections.Counter(words)\n",
    "    posDataDic = np.append(posDataDic, wordsDic)\n",
    "    allWords.update(wordsDic)"
   ]
  },
  {
   "cell_type": "code",
   "execution_count": 7,
   "metadata": {
    "collapsed": true
   },
   "outputs": [],
   "source": [
    "index = 0\n",
    "for key in allWords:\n",
    "    allWords[key] = index * 1\n",
    "    index+=1"
   ]
  },
  {
   "cell_type": "code",
   "execution_count": 8,
   "metadata": {
    "collapsed": true
   },
   "outputs": [],
   "source": [
    "def findRow(allWords, text):\n",
    "    row = np.zeros(len(allWords))\n",
    "    words = re.compile('[a-zA-Z\\']*[a-zA-Z]').findall(text)\n",
    "    wordsDic = collections.Counter(words)\n",
    "    for word in words:\n",
    "        if word in allWords:\n",
    "            row[allWords[word]] = wordsDic[word]\n",
    "    return row"
   ]
  },
  {
   "cell_type": "code",
   "execution_count": 9,
   "metadata": {
    "collapsed": true
   },
   "outputs": [],
   "source": [
    "x = []\n",
    "\n",
    "for i in range(N/2):\n",
    "    x.append( findRow(allWords, negData[i]) )\n",
    "    \n",
    "for i in range(N/2):\n",
    "    x.append( findRow(allWords, posData[i]) )\n",
    "\n",
    "x = np.row_stack(x)\n",
    "\n",
    "y = np.append(-1 * np.ones( (1, N/2) ), np.ones( (1, N/2) ))"
   ]
  },
  {
   "cell_type": "code",
   "execution_count": 10,
   "metadata": {
    "collapsed": true
   },
   "outputs": [],
   "source": [
    "# Fix 💩\n",
    "def cost(w, b, c, x, y):\n",
    "    p = 1 - y * (x.dot(w) + b)\n",
    "    p[p<0] = 0\n",
    "    p = p**2\n",
    "    return w.dot(w.T) + c * p.sum()"
   ]
  },
  {
   "cell_type": "code",
   "execution_count": 11,
   "metadata": {},
   "outputs": [
    {
     "data": {
      "text/plain": [
       "20000.0"
      ]
     },
     "execution_count": 11,
     "metadata": {},
     "output_type": "execute_result"
    }
   ],
   "source": [
    "M = len(allWords)\n",
    "w = np.zeros(M)\n",
    "b = 0\n",
    "c = 100\n",
    "\n",
    "cost(w, b, c, x, y)"
   ]
  },
  {
   "cell_type": "code",
   "execution_count": 12,
   "metadata": {},
   "outputs": [
    {
     "name": "stdout",
     "output_type": "stream",
     "text": [
      "Warning: Maximum number of iterations has been exceeded.\n"
     ]
    },
    {
     "data": {
      "text/plain": [
       "array([ 0.,  0.,  0., ...,  0.,  0.,  0.])"
      ]
     },
     "execution_count": 12,
     "metadata": {},
     "output_type": "execute_result"
    }
   ],
   "source": [
    "M = len(allWords)\n",
    "w = np.zeros(M)\n",
    "b = 0\n",
    "c = 100\n",
    "\n",
    "res = opt.minimize(cost, w, method='nelder-mead', args=(b, c, x, y), options={'xtol': 1e-8, 'disp': True, 'maxiter': 10})\n",
    "res.x"
   ]
  }
 ],
 "metadata": {
  "kernelspec": {
   "display_name": "Python 2",
   "language": "python",
   "name": "python2"
  },
  "language_info": {
   "codemirror_mode": {
    "name": "ipython",
    "version": 2
   },
   "file_extension": ".py",
   "mimetype": "text/x-python",
   "name": "python",
   "nbconvert_exporter": "python",
   "pygments_lexer": "ipython2",
   "version": "2.7.13"
  }
 },
 "nbformat": 4,
 "nbformat_minor": 2
}
