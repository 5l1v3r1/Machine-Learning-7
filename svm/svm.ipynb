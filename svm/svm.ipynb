{
 "cells": [
  {
   "cell_type": "code",
   "execution_count": 121,
   "metadata": {
    "collapsed": true
   },
   "outputs": [],
   "source": [
    "# Download data fro3m http://ai.stanford.edu/~amaas/data/sentiment/aclImdb_v1.tar.gz\n",
    "# %lprun -f"
   ]
  },
  {
   "cell_type": "code",
   "execution_count": 139,
   "metadata": {},
   "outputs": [],
   "source": [
    "import numpy as np\n",
    "import re\n",
    "import collections\n",
    "import operator\n",
    "from scipy.optimize import minimize\n",
    "import copy\n",
    "import cvxopt\n",
    "\n",
    "from scipy.optimize import fmin_bfgs"
   ]
  },
  {
   "cell_type": "code",
   "execution_count": 140,
   "metadata": {
    "collapsed": true
   },
   "outputs": [],
   "source": [
    "def findDic(text):\n",
    "    words = re.compile('[a-zA-Z\\']*[a-zA-Z]').findall(text)\n",
    "    return collections.Counter(words)"
   ]
  },
  {
   "cell_type": "code",
   "execution_count": 141,
   "metadata": {
    "collapsed": true
   },
   "outputs": [],
   "source": [
    "def readData(directory, paths, limit=None):\n",
    "    if limit:\n",
    "        paths = paths[0:limit]\n",
    "\n",
    "    data = []\n",
    "    for path in paths:\n",
    "        txt = open(directory + path).read()\n",
    "        data.append(txt)\n",
    "    return data\n",
    "        \n",
    "        \n",
    "negDataPath = !ls data/neg/\n",
    "negData = readData('./data/neg/', negDataPath, 1000)\n",
    "\n",
    "posDataPath = !ls data/pos/\n",
    "posData = readData('./data/pos/', posDataPath, 1000)"
   ]
  },
  {
   "cell_type": "code",
   "execution_count": 142,
   "metadata": {
    "collapsed": true
   },
   "outputs": [],
   "source": [
    "# negData = [\n",
    "#     'I am exhausted of this work.',\n",
    "#     \"I can't cooperate with this\",\n",
    "#     'I do not enjoy my job',\n",
    "#     \"I feel brilliant!\",\n",
    "#     'Gary is a friend of mine.',\n",
    "#     'The date was good.'\n",
    "# ]\n",
    "# posData = [\n",
    "#     'I love this burger.',\n",
    "#     'This is an brilliant place!',\n",
    "#     'I feel very good about these dates.',\n",
    "#     'This is my best work.',\n",
    "#     \"What an awesome view\"\n",
    "# ]\n",
    "\n",
    "# test = [\n",
    "#     \"I am not feeling well today.\",\n",
    "#     \"I can't believe I'm doing this.\",\n",
    "#     'The date was good.',\n",
    "#     \"I am not feeling well today.\",\n",
    "#     \"I can't believe I'm doing this.\",\n",
    "#     'I do not enjoy my job'\n",
    "# ]"
   ]
  },
  {
   "cell_type": "code",
   "execution_count": 143,
   "metadata": {},
   "outputs": [
    {
     "name": "stdout",
     "output_type": "stream",
     "text": [
      "Story of a man who has unnatural feelings for a pig. Starts out with a opening scene that is a terrific example of absurd comedy. A formal orchestra audience is turned into an insane, violent mob by the crazy chantings of it's singers. Unfortunately it stays absurd the WHOLE time with no general narrative eventually making it just too off putting. Even those from the era should be turned off. The cryptic dialogue would make Shakespeare seem easy to a third grader. On a technical level it's better than you might think with some good cinematography by future great Vilmos Zsigmond. Future stars Sally Kirkland and Frederic Forrest can be seen briefly.\n",
      "+++++\n",
      "Bromwell High is a cartoon comedy. It ran at the same time as some other programs about school life, such as \"Teachers\". My 35 years in the teaching profession lead me to believe that Bromwell High's satire is much closer to reality than is \"Teachers\". The scramble to survive financially, the insightful students who can see right through their pathetic teachers' pomp, the pettiness of the whole situation, all remind me of the schools I knew and their students. When I saw the episode in which a student repeatedly tried to burn down the school, I immediately recalled ......... at .......... High. A classic line: INSPECTOR: I'm here to sack one of your teachers. STUDENT: Welcome to Bromwell High. I expect that many adults of my age think that Bromwell High is far fetched. What a pity that it isn't!\n"
     ]
    }
   ],
   "source": [
    "print negData[0]\n",
    "print \"+++++\"\n",
    "print posData[0]"
   ]
  },
  {
   "cell_type": "code",
   "execution_count": 144,
   "metadata": {
    "collapsed": true
   },
   "outputs": [],
   "source": [
    "def findWordCount(data):\n",
    "    wordCount = []\n",
    "    for review in data:\n",
    "        wordCount.append(findDic(review))\n",
    "    return wordCount\n",
    "\n",
    "negDataDic = findWordCount(negData)\n",
    "posDataDic = findWordCount(posData)"
   ]
  },
  {
   "cell_type": "code",
   "execution_count": 145,
   "metadata": {
    "collapsed": true
   },
   "outputs": [],
   "source": [
    "def updateDic(mainDic, dicArray):\n",
    "    mainDic = copy.deepcopy(mainDic)\n",
    "    for dic in dicArray:\n",
    "        mainDic.update(dic)\n",
    "    \n",
    "    # update indexes\n",
    "    for index, key in enumerate(mainDic):\n",
    "        mainDic[ key ] = index\n",
    "        \n",
    "    return mainDic\n",
    "\n",
    "allWords = {}\n",
    "allWords = updateDic(allWords, negDataDic)\n",
    "allWords = updateDic(allWords, posDataDic)"
   ]
  },
  {
   "cell_type": "code",
   "execution_count": 146,
   "metadata": {
    "collapsed": true
   },
   "outputs": [],
   "source": [
    "def findRow(words, text, boolean=False):\n",
    "    row = np.zeros(len(allWords))\n",
    "    wordsDic = findDic(text)\n",
    "    for word in words:\n",
    "        if word in allWords:\n",
    "            row[allWords[word]] = 1 if boolean else wordsDic[word]\n",
    "    return row"
   ]
  },
  {
   "cell_type": "code",
   "execution_count": 147,
   "metadata": {
    "collapsed": true
   },
   "outputs": [],
   "source": [
    "def createTable(allWords, negData, y0, posData, y1):\n",
    "    x = []\n",
    "    for data in negData + posData:\n",
    "        x.append( findRow(allWords, data) )\n",
    "    x = np.row_stack(x)\n",
    "    \n",
    "    y = np.append(y0 * np.ones(len(negData)), y1 * np.ones(len(posData)))\n",
    "    return x, y"
   ]
  },
  {
   "cell_type": "code",
   "execution_count": 148,
   "metadata": {
    "collapsed": true
   },
   "outputs": [],
   "source": [
    "x, y = createTable(allWords, negData, -100, posData, 100)"
   ]
  },
  {
   "cell_type": "code",
   "execution_count": 150,
   "metadata": {
    "collapsed": true
   },
   "outputs": [],
   "source": [
    "M = len(x)\n",
    "k = np.zeros( (M, M) )"
   ]
  },
  {
   "cell_type": "code",
   "execution_count": 151,
   "metadata": {
    "collapsed": true
   },
   "outputs": [],
   "source": [
    "for i in xrange(M):\n",
    "    for j in xrange(M):\n",
    "        k[i][j] = np.dot(x[i].T, x[j])"
   ]
  },
  {
   "cell_type": "code",
   "execution_count": 152,
   "metadata": {},
   "outputs": [
    {
     "name": "stdout",
     "output_type": "stream",
     "text": [
      "     pcost       dcost       gap    pres   dres\n",
      " 0:  9.9023e+14 -1.2087e+16  2e+16  6e-06  2e-03\n",
      " 1:  5.1801e+14 -4.3733e+15  7e+15  2e-06  2e-03\n",
      " 2:  2.6731e+14 -1.5819e+15  2e+15  3e-07  1e-03\n",
      " 3:  1.0066e+14 -3.9671e+14  6e+14  5e-08  1e-03\n",
      " 4:  1.8342e+13 -2.1509e+13  4e+13  9e-09  6e-04\n",
      " 5:  2.6415e+12 -2.8861e+12  6e+12  2e-09  3e-04\n",
      " 6:  3.7857e+11 -4.1627e+11  8e+11  3e-09  1e-04\n",
      " 7:  5.4247e+10 -5.9615e+10  1e+11  9e-10  4e-05\n",
      " 8:  7.7735e+09 -8.5431e+09  2e+10  4e-10  1e-05\n",
      " 9:  1.1139e+09 -1.2242e+09  2e+09  2e-10  6e-06\n",
      "10:  1.5962e+08 -1.7543e+08  3e+08  2e-10  2e-06\n",
      "11:  2.2874e+07 -2.5138e+07  5e+07  5e-11  7e-07\n",
      "12:  3.2777e+06 -3.6023e+06  7e+06  7e-12  3e-07\n",
      "13:  4.6968e+05 -5.1621e+05  1e+06  8e-12  1e-07\n",
      "14:  6.7301e+04 -7.3975e+04  1e+05  7e-13  4e-08\n",
      "15:  9.6428e+03 -1.0602e+04  2e+04  3e-13  2e-08\n",
      "16:  1.3813e+03 -1.5197e+03  3e+03  2e-13  6e-09\n",
      "17:  1.9775e+02 -2.1796e+02  4e+02  2e-14  2e-09\n",
      "18:  2.8267e+01 -3.1303e+01  6e+01  2e-14  1e-09\n",
      "19:  4.0238e+00 -4.5124e+00  9e+00  2e-14  3e-10\n",
      "20:  5.6628e-01 -6.5684e-01  1e+00  1e-15  1e-10\n",
      "21:  7.7048e-02 -9.8124e-02  2e-01  1e-15  5e-11\n",
      "22:  9.2886e-03 -1.5712e-02  3e-02  1e-15  2e-11\n",
      "23:  4.4285e-04 -3.0366e-03  3e-03  6e-16  7e-12\n",
      "24: -5.1163e-04 -1.0973e-03  6e-04  2e-16  4e-12\n",
      "25: -6.3503e-04 -8.4252e-04  2e-04  2e-16  2e-12\n",
      "26: -6.8090e-04 -7.3299e-04  5e-05  2e-16  2e-12\n",
      "27: -6.9338e-04 -7.0060e-04  7e-06  2e-16  2e-12\n",
      "28: -6.9546e-04 -6.9594e-04  5e-07  2e-16  2e-12\n",
      "29: -6.9562e-04 -6.9564e-04  1e-08  2e-16  2e-12\n",
      "Optimal solution found.\n"
     ]
    }
   ],
   "source": [
    "P = cvxopt.matrix(np.outer(y, y) * k)\n",
    "q = cvxopt.matrix(np.ones(M) * -1)\n",
    "\n",
    "G = cvxopt.matrix(np.vstack([\n",
    "    np.eye(M) * -1,\n",
    "    np.eye(M)\n",
    "    ]))\n",
    "\n",
    "h = cvxopt.matrix(np.hstack([\n",
    "    np.zeros(M),\n",
    "    np.ones(M) * 999999999.0\n",
    "    ]))\n",
    "\n",
    "A = cvxopt.matrix(y, (1,M))\n",
    "b = cvxopt.matrix(0.0)\n",
    "\n",
    "solution = cvxopt.solvers.qp(P, q, G, h, A, b)"
   ]
  },
  {
   "cell_type": "code",
   "execution_count": 153,
   "metadata": {},
   "outputs": [
    {
     "data": {
      "text/plain": [
       "{'dual infeasibility': 2.036025600692497e-12,\n",
       " 'dual objective': -0.0006956387145998656,\n",
       " 'dual slack': 1.6732995466410092e-21,\n",
       " 'gap': 1.4443135230886341e-08,\n",
       " 'iterations': 29,\n",
       " 'primal infeasibility': 2.1763410436867817e-16,\n",
       " 'primal objective': -0.0006956242714646348,\n",
       " 'primal slack': 3.0927131461344753e-13,\n",
       " 'relative gap': 2.0762839687114947e-05,\n",
       " 's': <4000x1 matrix, tc='d'>,\n",
       " 'status': 'optimal',\n",
       " 'x': <2000x1 matrix, tc='d'>,\n",
       " 'y': <1x1 matrix, tc='d'>,\n",
       " 'z': <4000x1 matrix, tc='d'>}"
      ]
     },
     "execution_count": 153,
     "metadata": {},
     "output_type": "execute_result"
    }
   ],
   "source": [
    "solution"
   ]
  },
  {
   "cell_type": "code",
   "execution_count": 154,
   "metadata": {},
   "outputs": [
    {
     "data": {
      "text/plain": [
       "array([ 0.,  0.,  0., ...,  0.,  0.,  0.])"
      ]
     },
     "execution_count": 154,
     "metadata": {},
     "output_type": "execute_result"
    }
   ],
   "source": [
    "findRow(allWords, test[0])"
   ]
  },
  {
   "cell_type": "code",
   "execution_count": 155,
   "metadata": {},
   "outputs": [
    {
     "data": {
      "text/plain": [
       "array([  2.04420607e-05,   2.52993250e-05,   1.68320264e-05,\n",
       "         6.16963768e-05,   1.87029236e-05,   3.04491323e-05,\n",
       "         6.20560736e-05,   2.50502122e-05,   3.87621427e-05,\n",
       "         2.45711919e-05,   2.29822245e-05])"
      ]
     },
     "execution_count": 155,
     "metadata": {},
     "output_type": "execute_result"
    }
   ],
   "source": [
    "a"
   ]
  },
  {
   "cell_type": "code",
   "execution_count": 156,
   "metadata": {
    "collapsed": true
   },
   "outputs": [],
   "source": [
    "w = np.zeros(len(x[0]))"
   ]
  },
  {
   "cell_type": "code",
   "execution_count": 157,
   "metadata": {
    "collapsed": true
   },
   "outputs": [],
   "source": [
    "for i in xrange(len(a)):\n",
    "    w += a[i] * y[i] * x[i]"
   ]
  },
  {
   "cell_type": "code",
   "execution_count": 158,
   "metadata": {},
   "outputs": [
    {
     "data": {
      "text/plain": [
       "array([ 0.,  0.,  0., ...,  0.,  0.,  0.])"
      ]
     },
     "execution_count": 158,
     "metadata": {},
     "output_type": "execute_result"
    }
   ],
   "source": [
    "w"
   ]
  },
  {
   "cell_type": "code",
   "execution_count": 159,
   "metadata": {},
   "outputs": [
    {
     "data": {
      "text/plain": [
       "-46.513057389909314"
      ]
     },
     "execution_count": 159,
     "metadata": {},
     "output_type": "execute_result"
    }
   ],
   "source": [
    "w.dot( findRow(allWords, negData[1]) )"
   ]
  },
  {
   "cell_type": "code",
   "execution_count": 160,
   "metadata": {
    "collapsed": true
   },
   "outputs": [],
   "source": [
    "negMax = None\n",
    "for i in negData:\n",
    "    t = w.dot( findRow(allWords, negData[1]) )\n",
    "    if not negMax or t > negMax:\n",
    "        negMax = t"
   ]
  },
  {
   "cell_type": "code",
   "execution_count": 161,
   "metadata": {
    "collapsed": true
   },
   "outputs": [],
   "source": [
    "posMin = None\n",
    "for i in posData:\n",
    "    t = w.dot( findRow(allWords, posData[1]) )\n",
    "    if not posMin or t < posMin:\n",
    "        posMin = t"
   ]
  },
  {
   "cell_type": "code",
   "execution_count": 182,
   "metadata": {},
   "outputs": [],
   "source": [
    "b = (negMax+posMin)/2"
   ]
  },
  {
   "cell_type": "code",
   "execution_count": 187,
   "metadata": {},
   "outputs": [
    {
     "data": {
      "text/plain": [
       "-43.036562345676963"
      ]
     },
     "execution_count": 187,
     "metadata": {},
     "output_type": "execute_result"
    }
   ],
   "source": [
    "w.dot( findRow(allWords, posData[3]) ) + b"
   ]
  }
 ],
 "metadata": {
  "kernelspec": {
   "display_name": "Python 2",
   "language": "python",
   "name": "python2"
  },
  "language_info": {
   "codemirror_mode": {
    "name": "ipython",
    "version": 2
   },
   "file_extension": ".py",
   "mimetype": "text/x-python",
   "name": "python",
   "nbconvert_exporter": "python",
   "pygments_lexer": "ipython2",
   "version": "2.7.13"
  }
 },
 "nbformat": 4,
 "nbformat_minor": 2
}
