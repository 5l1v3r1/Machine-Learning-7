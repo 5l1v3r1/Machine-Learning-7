{
 "cells": [
  {
   "cell_type": "code",
   "execution_count": null,
   "metadata": {
    "collapsed": true
   },
   "outputs": [],
   "source": [
    "%matplotlib inline\n",
    "%config InlineBackend.figure_format = 'retina'"
   ]
  },
  {
   "cell_type": "code",
   "execution_count": null,
   "metadata": {
    "collapsed": true
   },
   "outputs": [],
   "source": [
    "import os\n",
    "import multiprocessing\n",
    "from multiprocessing import Pool\n",
    "import struct\n",
    "import random\n",
    "import math\n",
    "import numpy as np\n",
    "import pandas as pd\n",
    "import seaborn as sns\n",
    "from scipy import stats\n",
    "from scipy import optimize as opt\n",
    "import scipy\n",
    "from scipy.io import loadmat  \n",
    "import matplotlib as mpl\n",
    "import matplotlib.pyplot as plt"
   ]
  },
  {
   "cell_type": "code",
   "execution_count": null,
   "metadata": {
    "collapsed": true
   },
   "outputs": [],
   "source": [
    "# Forked from 'https://gist.github.com/akesling/5358964' -> GPL2\n",
    "def read(path):\n",
    "    \"\"\"\n",
    "    Python function for importing the MNIST data set.  It returns an iterator\n",
    "    of 2-tuples with the first element being the label and the second element\n",
    "    being a numpy.uint8 2D array of pixel data for the given image.\n",
    "    \"\"\"\n",
    "\n",
    "    fname_img = os.path.join(path, 'training_set_images')\n",
    "    fname_lbl = os.path.join(path, 'training_set_labels')\n",
    "\n",
    "    # Load everything in some numpy arrays\n",
    "    with open(fname_lbl, 'rb') as flbl:\n",
    "        magic, num = struct.unpack(\">II\", flbl.read(8))\n",
    "        lbl = np.fromfile(flbl, dtype=np.int8)\n",
    "\n",
    "    with open(fname_img, 'rb') as fimg:\n",
    "        magic, num, rows, cols = struct.unpack(\">IIII\", fimg.read(16))\n",
    "        img = np.fromfile(fimg, dtype=np.uint8).reshape(len(lbl), rows, cols)\n",
    "\n",
    "    get_img = lambda idx: (lbl[idx], img[idx])\n",
    "\n",
    "    # Create an iterator which returns each image in turn\n",
    "    for i in range(len(lbl)):\n",
    "        yield get_img(i)\n",
    "\n",
    "allData = []\n",
    "for i in read('data/'):\n",
    "    allData +=  [ (i[1], i[0])]"
   ]
  },
  {
   "cell_type": "code",
   "execution_count": null,
   "metadata": {
    "collapsed": true
   },
   "outputs": [],
   "source": [
    "sampleCount = 100\n",
    "data = pd.DataFrame( allData[0:sampleCount], columns=['Image','Label'] )\n",
    "data.head()"
   ]
  },
  {
   "cell_type": "code",
   "execution_count": null,
   "metadata": {
    "collapsed": true
   },
   "outputs": [],
   "source": [
    "(width, height) = data[0:1]['Image'][0].shape"
   ]
  },
  {
   "cell_type": "code",
   "execution_count": null,
   "metadata": {
    "collapsed": true,
    "scrolled": false
   },
   "outputs": [],
   "source": [
    "temp = pd.DataFrame()\n",
    "for i in range(sampleCount): \n",
    "    curr = data['Image'][i] / 255.\n",
    "    temp = temp.append( pd.DataFrame(curr.reshape((1, width*height))) )\n",
    "\n",
    "temp.insert(0, 'Ones', 1)\n",
    "temp.head()"
   ]
  },
  {
   "cell_type": "code",
   "execution_count": null,
   "metadata": {
    "collapsed": true,
    "scrolled": false
   },
   "outputs": [],
   "source": [
    "x = temp\n",
    "y = data['Label']"
   ]
  },
  {
   "cell_type": "markdown",
   "metadata": {},
   "source": [
    "# Visualizing the Data"
   ]
  },
  {
   "cell_type": "code",
   "execution_count": null,
   "metadata": {
    "collapsed": true,
    "scrolled": false
   },
   "outputs": [],
   "source": [
    "(row, col) = (2, 5)\n",
    "\n",
    "fig, axes = plt.subplots(nrows=row, ncols=col)\n",
    "plt.figure(figsize=(16,9))\n",
    "\n",
    "for i in range(row):\n",
    "    for j in range(col):\n",
    "        currGen = allData[ random.randint(0, len(data)-1) ]\n",
    "        axes[i][j].imshow(currGen[0], cmap=mpl.cm.GnBu, interpolation=\"bicubic\")\n",
    "        axes[i][j].set_title( str(currGen[1]) )\n",
    "        \n",
    "        axes[i][j].xaxis.label.set_visible(False)\n",
    "        axes[i][j].axes.get_xaxis().set_visible(False)\n",
    "        axes[i][j].axes.get_yaxis().set_visible(False)"
   ]
  },
  {
   "cell_type": "code",
   "execution_count": null,
   "metadata": {
    "collapsed": true
   },
   "outputs": [],
   "source": [
    "# # pd.DataFrame(data[0:6000])\n",
    "# data = np.array(data)\n",
    "# data"
   ]
  },
  {
   "cell_type": "markdown",
   "metadata": {},
   "source": [
    "# Logistic Regression\n",
    "### sigmoid function\n",
    "$f(x)=\\frac{1}{1+e^{-x}}$"
   ]
  },
  {
   "cell_type": "code",
   "execution_count": null,
   "metadata": {
    "collapsed": true
   },
   "outputs": [],
   "source": [
    "def sigmoid(z):  \n",
    "    return 1 / (1 + np.exp(-z))\n",
    "\n",
    "tempX = np.array(range(-10,11))\n",
    "tempY = list( map(sigmoid, tempX) )\n",
    "plt.plot(tempX, tempY, 'b')"
   ]
  },
  {
   "cell_type": "code",
   "execution_count": null,
   "metadata": {
    "collapsed": true
   },
   "outputs": [],
   "source": [
    "def cost(theta, x, y, learningRate):\n",
    "    theta = np.matrix(theta)\n",
    "    X = np.matrix(x)\n",
    "    y = np.matrix(y)\n",
    "    left = np.multiply(-y, np.log(sigmoid(X * theta.T)))\n",
    "    right = np.multiply((1 - y), np.log(1 - sigmoid(X * theta.T)))\n",
    "    reg = ( learningRate / (2 * len(X)) ) * np.sum( np.power(theta[:,1:theta.shape[1]], 2) )\n",
    "    return np.sum(left - right) / (len(X)) + reg"
   ]
  },
  {
   "cell_type": "code",
   "execution_count": null,
   "metadata": {
    "collapsed": true
   },
   "outputs": [],
   "source": [
    "def gradient(theta, X, y, learningRate):  \n",
    "    theta = np.matrix(theta)\n",
    "    X = np.matrix(X)\n",
    "    y = np.matrix(y)\n",
    "\n",
    "    parameters = int(theta.ravel().shape[1])\n",
    "    grad = np.zeros(parameters)\n",
    "\n",
    "    error = sigmoid(X * theta.T) - y\n",
    "\n",
    "    for i in range(parameters):\n",
    "        term = np.multiply(error, X[:,i])\n",
    "\n",
    "        if (i == 0):\n",
    "            grad[i] = np.sum(term) / len(X)\n",
    "        else:\n",
    "            grad[i] = (np.sum(term) / len(X)) + ((learningRate / len(X)) * theta[:,i])\n",
    "\n",
    "    return grad"
   ]
  },
  {
   "cell_type": "code",
   "execution_count": null,
   "metadata": {
    "collapsed": true,
    "scrolled": false
   },
   "outputs": [],
   "source": [
    "def workerFunc( args ):\n",
    "    x, y, landa, label = args\n",
    "    x0 = np.zeros( (x.shape[1],1) )\n",
    "#     print( [1 if yy == label else 0 for yy in y] )\n",
    "    print(label, \"Starting!\")\n",
    "    res = opt.minimize(cost, x0,jac=gradient, method='BFGS', args=(x, [ 1 if yy == label else 0 for yy in y], landa), options={'disp': True})\n",
    "    print(label, \"Compelete!\")\n",
    "    return res.x\n",
    "    return num\n",
    "    \n",
    "def findAllThatas(x, y, labels, landa=0.0001):\n",
    "    p = Pool( len(labels) )\n",
    "    return p.map(workerFunc, [ (x, y, landa, label) for label in labels ])\n",
    "\n",
    "thetas = findAllThatas(x, y, [0,1,2,3,4,5,6,7,8,9])"
   ]
  },
  {
   "cell_type": "code",
   "execution_count": null,
   "metadata": {
    "collapsed": true
   },
   "outputs": [],
   "source": [
    "def passProbability(theta, image):\n",
    "    tmp = np.array(image) / 255.\n",
    "    return sigmoid( np.dot(tmp, theta) )"
   ]
  },
  {
   "cell_type": "code",
   "execution_count": null,
   "metadata": {
    "collapsed": true,
    "scrolled": true
   },
   "outputs": [],
   "source": [
    "PP = 0\n",
    "for j in range(100):\n",
    "\n",
    "    resP = 0\n",
    "    resX = None\n",
    "    for i in [(zzz, passProbability( thetas[zzz], x.iloc[j])) for zzz in range(10)]:\n",
    "        if i[1] > resP:\n",
    "            resP = i[1]\n",
    "            resX = i[0]\n",
    "    \n",
    "    if y[j] == resX:\n",
    "        PP += 1\n",
    "        \n",
    "print( PP )"
   ]
  },
  {
   "cell_type": "code",
   "execution_count": null,
   "metadata": {
    "collapsed": true
   },
   "outputs": [],
   "source": [
    "with open(\"data/training_set_labels\", 'rb') as flbl:\n",
    "    magic, num = struct.unpack(\">II\", flbl.read(8))\n",
    "    lbl_test = np.fromfile(flbl, dtype=np.int8)\n",
    "\n",
    "with open(\"data/training_set_images\", 'rb') as fimg:\n",
    "    magic, num, rows, cols = struct.unpack(\">IIII\", fimg.read(16))\n",
    "    img_test_view = np.fromfile(fimg, dtype=np.uint8).reshape(len(lbl_test),rows,cols)\n",
    "    img_test = img_test_view.reshape(len(lbl_test),rows*cols)\n",
    "    \n",
    "thetas = np.load(\".thetas\")\n",
    "img_test = img_test/255.\n",
    "img_test = np.concatenate((np.ones((1,len(lbl_test))), img_test.T)).T\n",
    "\n",
    "idx_test = random.randint(0,len(lbl_test))\n",
    "plt.imshow(img_test_view[idx_test], cmap='gray_r')\n",
    "plt.show()\n",
    "          \n",
    "ans = sigmoid(np.dot(thetas,img_test[idx_test].T))\n",
    "for i in range(0,10):\n",
    "    print( \"predicted probability for value \",i,\" is: \",ans[i] )\n",
    "print(\"---\")\n",
    "print(\"predicted value is: \" , ans.argmax())\n",
    "print(\"real value is: \",lbl_test[idx_test])"
   ]
  },
  {
   "cell_type": "code",
   "execution_count": null,
   "metadata": {
    "collapsed": true
   },
   "outputs": [],
   "source": []
  }
 ],
 "metadata": {
  "kernelspec": {
   "display_name": "Python 3",
   "language": "python",
   "name": "python3"
  },
  "language_info": {
   "codemirror_mode": {
    "name": "ipython",
    "version": 3
   },
   "file_extension": ".py",
   "mimetype": "text/x-python",
   "name": "python",
   "nbconvert_exporter": "python",
   "pygments_lexer": "ipython3",
   "version": "3.6.0"
  }
 },
 "nbformat": 4,
 "nbformat_minor": 2
}
