{
 "cells": [
  {
   "cell_type": "code",
   "execution_count": 9,
   "metadata": {
    "collapsed": true
   },
   "outputs": [],
   "source": [
    "%matplotlib inline"
   ]
  },
  {
   "cell_type": "code",
   "execution_count": 12,
   "metadata": {
    "collapsed": false
   },
   "outputs": [
    {
     "name": "stdout",
     "output_type": "stream",
     "text": [
      "[[   1.    0.]\n",
      " [   1.    1.]\n",
      " [   1.    2.]\n",
      " ..., \n",
      " [   1.  997.]\n",
      " [   1.  998.]\n",
      " [   1.  999.]]\n",
      "[ 542  490  516  409  432  452  508  572  599  557  600  567  414  534  613\n",
      "  582  580  498  514  593  449  590  461  493  539  597  539  455  455  449\n",
      "  449  582  568  608  447  570  531  611  526  578  568  503  548  493  624\n",
      "  470  470  463  565  478  498  506  460  505  531  577  630  512  619  637\n",
      "  522  523  522  500  575  555  537  532  538  622  550  593  491  574  601\n",
      "  645  552  636  676  618  673  670  489  549  654  604  671  528  607  590\n",
      "  630  519  539  662  654  599  571  599  585  555  549  699  651  662  621\n",
      "  574  515  695  677  690  661  568  637  613  663  621  668  523  555  705\n",
      "  552  617  664  530  532  687  590  568  710  714  588  704  580  704  643\n",
      "  716  715  662  602  646  666  590  616  646  545  677  739  666  561  732\n",
      "  585  716  695  658  601  626  618  746  704  565  642  718  639  670  715\n",
      "  685  657  757  662  680  693  701  732  604  706  604  703  692  736  599\n",
      "  676  617  778  701  611  692  586  644  630  650  637  745  710  637  755\n",
      "  600  663  686  646  746  724  783  801  646  761  751  713  778  739  685\n",
      "  684  754  797  755  703  706  775  730  790  740  639  735  650  634  687\n",
      "  687  630  629  756  779  702  638  825  804  698  698  750  793  672  821\n",
      "  796  675  829  710  736  749  841  673  750  672  744  805  816  655  749\n",
      "  696  790  671  723  704  733  688  667  706  804  708  743  815  727  684\n",
      "  781  725  673  691  712  684  841  820  704  851  872  869  864  863  799\n",
      "  778  753  730  861  829  767  888  702  749  833  791  717  765  725  806\n",
      "  800  716  729  800  811  821  798  787  716  713  879  835  720  774  797\n",
      "  758  851  845  726  740  793  797  865  732  820  818  804  739  805  744\n",
      "  744  919  864  824  897  926  933  795  892  772  879  798  783  844  795\n",
      "  935  767  791  798  917  868  848  825  943  786  933  791  842  825  793\n",
      "  951  928  823  893  820  890  908  779  832  952  832  928  894  832  912\n",
      "  837  829  948  807  818  880  859  885  789  795  877  839  904  914  868\n",
      "  984  964  959  945  839  969  821  959  996  955  916  910  964  822  826\n",
      " 1002  949  904  946  837  920  878  906  905  895  838  863  843 1015  922\n",
      "  833  978  999  979  986  966  890  967  944  898  873  859  835 1030  989\n",
      "  843  845  991  992  980  901  947  898  979  962  898 1021  910 1026  915\n",
      "  941  895  974  923  931 1034  862 1038 1038 1035  971 1053  940 1054  957\n",
      " 1049  917  988 1046  894  877  897 1048 1004  930  932  912 1045 1024  946\n",
      " 1053  912 1006  974  897  946  950  887  961  992 1016 1063  932 1045 1048\n",
      "  932 1057 1075 1017 1009  994  936  970  938 1069  973  926 1082 1012 1020\n",
      "  941 1035 1102 1094 1069 1101 1037  996 1072 1023  929  999  961 1033 1055\n",
      " 1088  966 1091 1010  969  945 1065  979 1030  977 1115  952 1127 1020  948\n",
      " 1029  976 1023 1108  990 1037  987 1034  972  984 1079 1035 1056 1115 1067\n",
      " 1146 1109  963 1009 1103 1109 1072 1075  963 1058  996 1016  980 1025 1135\n",
      " 1094 1033 1102 1018 1109 1023 1111  993 1019  979 1003 1051 1019 1136 1023\n",
      " 1133  994 1163 1100 1092 1169 1005 1041 1084 1050 1175 1086 1042 1100 1049\n",
      " 1179 1089 1175 1182 1156 1136 1104 1159 1163 1079 1104 1196 1024 1051 1191\n",
      " 1027 1142 1035 1118 1135 1198 1107 1110 1135 1050 1190 1080 1118 1210 1042\n",
      " 1188 1207 1187 1171 1045 1065 1111 1116 1124 1213 1201 1162 1137 1166 1101\n",
      " 1102 1075 1115 1176 1146 1142 1239 1058 1069 1164 1093 1137 1071 1120 1167\n",
      " 1127 1068 1209 1259 1144 1216 1071 1170 1128 1135 1214 1084 1164 1268 1244\n",
      " 1219 1194 1162 1157 1144 1164 1165 1137 1206 1127 1223 1169 1251 1189 1106\n",
      " 1157 1146 1273 1267 1249 1174 1157 1239 1202 1227 1119 1164 1162 1266 1121\n",
      " 1125 1254 1146 1200 1251 1142 1160 1231 1309 1176 1182 1161 1152 1141 1234\n",
      " 1242 1293 1257 1234 1147 1170 1258 1296 1163 1133 1252 1280 1181 1276 1152\n",
      " 1331 1203 1310 1302 1275 1289 1334 1236 1314 1290 1147 1211 1338 1244 1252\n",
      " 1185 1337 1189 1227 1256 1165 1178 1308 1244 1350 1337 1334 1262 1213 1245\n",
      " 1264 1246 1296 1175 1358 1245 1292 1310 1192 1225 1277 1375 1261 1270 1364\n",
      " 1296 1272 1361 1234 1369 1353 1379 1356 1290 1268 1249 1384 1304 1351 1215\n",
      " 1205 1298 1202 1338 1208 1204 1209 1372 1293 1366 1319 1271 1235 1367 1283\n",
      " 1323 1388 1384 1289 1379 1224 1354 1269 1368 1259 1403 1381 1289 1287 1330\n",
      " 1260 1424 1323 1422 1419 1237 1281 1360 1375 1364 1307 1384 1278 1275 1408\n",
      " 1341 1419 1273 1367 1433 1249 1393 1384 1389 1366 1307 1405 1348 1352 1301\n",
      " 1275 1304 1315 1380 1333 1273 1368 1345 1314 1320 1456 1379 1425 1392 1395\n",
      " 1324 1431 1414 1411 1381 1454 1432 1290 1468 1288 1408 1298 1386 1387 1351\n",
      " 1308 1359 1386 1397 1383 1334 1390 1308 1354 1469 1328 1304 1371 1377 1313\n",
      " 1388 1391 1475 1370 1409 1381 1453 1313 1449 1362 1381 1426 1466 1510 1390\n",
      " 1426 1359 1446 1339 1396 1322 1347 1348 1504 1364 1349 1335 1458 1373 1351\n",
      " 1493 1331 1500 1374 1500 1490 1426 1395 1381 1378 1356 1464 1520 1442 1371\n",
      " 1453 1427 1472 1466 1444 1533 1367 1513 1397 1478 1549 1421 1537 1493 1477\n",
      " 1521 1383 1527 1449 1495 1492 1523 1497 1417 1464 1499 1527 1432 1562 1532\n",
      " 1380 1453 1447 1529 1500 1510 1427 1568 1424 1475 1498 1505 1551 1574 1406\n",
      " 1584 1444 1560 1547 1408 1502 1536 1411 1506 1448]\n",
      "ans ======== \n",
      "[ 6.91089892  1.73668961]\n",
      "4.76837158203e-06\n",
      "701.586744806\n"
     ]
    }
   ],
   "source": [
    "import numpy as np\n",
    "import pandas as pd\n",
    "import seaborn as sns\n",
    "from scipy import stats\n",
    "import matplotlib as mpl\n",
    "import matplotlib.pyplot as plt\n",
    "\n",
    "INF = 1000000000\n",
    "##n = 2\n",
    "##m = 30000\n",
    "min_alpha = 0.0\n",
    "max_alpha = 10.0\n",
    "max_it = 10000\n",
    "\n",
    "#make data ye sadegh\n",
    "noiseSize = 2\n",
    "size = 1000\n",
    "\n",
    "######## old\n",
    "# sample = np.arange(size*2).reshape( (2, size) )\n",
    "# sample[1] = np.sqrt(sample)[0]\n",
    "# sample[1] = sample[1] + (np.random.rand(1,size) - .5) * noiseSize*2\n",
    "# sample = sample.T\n",
    "############\n",
    "\n",
    "######## new\n",
    "noiseSize = 100\n",
    "size = 1000\n",
    "\n",
    "sample = np.arange(size*2).reshape( (2, size) )\n",
    "# sample[1] = np.sqrt(size - sample)[0]\n",
    "sample[1] = sample[0] + 500\n",
    "sample[1] = sample[1] + (np.random.rand(1,size) - .5) * noiseSize*2\n",
    "sample = sample.T\n",
    "##############\n",
    "\n",
    "\n",
    "data = sample\n",
    "n = 2\n",
    "m = data.shape[0]\n",
    "x = data[:, :n-1]\n",
    "x = np.concatenate((np.ones((1,m)), x.T)).T\n",
    "print x\n",
    "y = np.array( data[:,-1] )\n",
    "theta = np.ones(n)\n",
    "print y\n",
    "\n",
    "#make chert input :D\n",
    "#x = np.ones((m,n))\n",
    "#y = np.random.random(m)\n",
    "#for i in range(0,m):\n",
    "#    y[i] += 1\n",
    "#    for j in range(1,n):\n",
    "#        x[i][j] = i*j\n",
    "#        y[i] += i*j*3\n",
    "\n",
    "#feature scaling\n",
    "x_min = x.min(0)\n",
    "x_max = x.max(0)\n",
    "x_mean = x.mean(0)\n",
    "def feature_scaling(feature_num , a):\n",
    "    return (a - x_mean[feature_num]) / (x_max[feature_num] - x_min[feature_num])\n",
    "\n",
    "#for j in range(1,n):\n",
    "#    for i in range(0,m):\n",
    "#        x[i][j] = feature_scaling(j,x[i][j])\n",
    "\n",
    "def Incode_features_scaling(vec):\n",
    "    ans = theta[0]\n",
    "    for i in range(1,vec.shape[0]):\n",
    "        ans += feature_scaling(i , vec[i]) * theta[i]\n",
    "    return ans\n",
    "\n",
    "xT = x.transpose()\n",
    "prev_j = -1\n",
    "count_it = 0\n",
    "exit = False\n",
    "while count_it < max_it :\n",
    "    alpha = (max_alpha+min_alpha)/2\n",
    "    count_it += 1\n",
    "    h = np.dot(x , theta)\n",
    "    loss = h - y\n",
    "    gradient = np.dot(xT , loss)\n",
    "    theta = theta - alpha * gradient / m\n",
    "    j = np.sum(loss ** 2) / (2*m)\n",
    "    if prev_j != -1 :\n",
    "        if prev_j < j :\n",
    "            max_alpha = alpha\n",
    "            theta = np.ones(n)\n",
    "            prev_j = -1\n",
    "            count_it = 0\n",
    "    prev_j = j;\n",
    "    if exit == True:\n",
    "        count_it = max_it\n",
    "print(\"ans ======== \")\n",
    "print(theta)\n",
    "print(alpha)\n",
    "a = np.array([1,400])\n",
    "print theta[0]+theta[1]*400\n",
    "#print Incode_features_scaling(a)\n",
    "\n"
   ]
  },
  {
   "cell_type": "code",
   "execution_count": 13,
   "metadata": {
    "collapsed": false
   },
   "outputs": [
    {
     "data": {
      "text/plain": [
       "[<matplotlib.lines.Line2D at 0x1112fbe10>]"
      ]
     },
     "execution_count": 13,
     "metadata": {},
     "output_type": "execute_result"
    },
    {
     "data": {
      "image/png": "[encoded data removed]",
      "text/plain": [
       "<matplotlib.figure.Figure at 0x1112fb110>"
      ]
     },
     "metadata": {},
     "output_type": "display_data"
    }
   ],
   "source": [
    "plt.plot(x[:,1], y, 'ro')\n",
    "plt.plot([0, m], [theta[0],  theta[0] + m*theta[1]], 'k-', lw=1)"
   ]
  },
  {
   "cell_type": "code",
   "execution_count": null,
   "metadata": {
    "collapsed": true
   },
   "outputs": [],
   "source": []
  }
 ],
 "metadata": {
  "kernelspec": {
   "display_name": "Python 2",
   "language": "python",
   "name": "python2"
  },
  "language_info": {
   "codemirror_mode": {
    "name": "ipython",
    "version": 2
   },
   "file_extension": ".py",
   "mimetype": "text/x-python",
   "name": "python",
   "nbconvert_exporter": "python",
   "pygments_lexer": "ipython2",
   "version": "2.7.13"
  }
 },
 "nbformat": 4,
 "nbformat_minor": 2
}
