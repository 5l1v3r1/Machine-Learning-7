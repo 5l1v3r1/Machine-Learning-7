{
 "cells": [
  {
   "cell_type": "code",
   "execution_count": 1,
   "metadata": {
    "collapsed": true
   },
   "outputs": [],
   "source": [
    "%matplotlib inline"
   ]
  },
  {
   "cell_type": "code",
   "execution_count": 112,
   "metadata": {
    "collapsed": true
   },
   "outputs": [],
   "source": [
    "import numpy as np\n",
    "import pandas as pd\n",
    "import seaborn as sns\n",
    "from scipy import stats\n",
    "import matplotlib as mpl\n",
    "import matplotlib.pyplot as plt"
   ]
  },
  {
   "cell_type": "code",
   "execution_count": 113,
   "metadata": {
    "collapsed": false,
    "scrolled": false
   },
   "outputs": [],
   "source": [
    "# noiseSize = 0\n",
    "# size = 10\n",
    "\n",
    "# sample = np.arange(size*2).reshape( (2, size) )\n",
    "# sample[1] = np.sqrt(sample)[0]\n",
    "# sample[1] = sample[1] + (np.random.rand(1,size) - .5) * noiseSize*2\n",
    "# sample = sample.T\n",
    "\n",
    "# plt.plot(sample[:,0], sample[:,1], 'ro')"
   ]
  },
  {
   "cell_type": "code",
   "execution_count": 114,
   "metadata": {
    "collapsed": false,
    "scrolled": false
   },
   "outputs": [],
   "source": [
    "# data = sample\n",
    "# n = 2\n",
    "# m = data.shape[0]\n",
    "\n",
    "# x = data[:, :n-1]\n",
    "# x = np.concatenate((np.ones((1,m)), x.T)).T\n",
    "\n",
    "# y = np.array( data[:,-1] )\n",
    "# y = y.reshape( (m, 1) )"
   ]
  },
  {
   "cell_type": "code",
   "execution_count": 121,
   "metadata": {
    "collapsed": false
   },
   "outputs": [],
   "source": [
    "n = 2\n",
    "m = 10\n",
    "\n",
    "x = np.ones((m,n))\n",
    "y = np.ones(m)\n",
    "theta = np.ones(n)\n",
    "for i in range(0,m):\n",
    "    for j in range(1,n):\n",
    "        x[i][j] = i*j\n",
    "        y[i] += i*j*3\n",
    "        \n",
    "# y = y.reshape( (m, 1) )"
   ]
  },
  {
   "cell_type": "code",
   "execution_count": 122,
   "metadata": {
    "collapsed": false
   },
   "outputs": [
    {
     "name": "stdout",
     "output_type": "stream",
     "text": [
      "[[ 1.  0.]\n",
      " [ 1.  1.]\n",
      " [ 1.  2.]\n",
      " [ 1.  3.]\n",
      " [ 1.  4.]\n",
      " [ 1.  5.]\n",
      " [ 1.  6.]\n",
      " [ 1.  7.]\n",
      " [ 1.  8.]\n",
      " [ 1.  9.]]\n",
      "[  1.   4.   7.  10.  13.  16.  19.  22.  25.  28.]\n"
     ]
    },
    {
     "data": {
      "text/plain": [
       "[<matplotlib.lines.Line2D at 0x11b3fccc0>]"
      ]
     },
     "execution_count": 122,
     "metadata": {},
     "output_type": "execute_result"
    },
    {
     "data": {
      "image/png": "[encoded data removed]",
      "text/plain": [
       "<matplotlib.figure.Figure at 0x11b30a828>"
      ]
     },
     "metadata": {},
     "output_type": "display_data"
    }
   ],
   "source": [
    "print(x)\n",
    "print(y)\n",
    "plt.plot(x[:,1], y, 'ro')"
   ]
  },
  {
   "cell_type": "code",
   "execution_count": 120,
   "metadata": {
    "collapsed": false
   },
   "outputs": [
    {
     "name": "stdout",
     "output_type": "stream",
     "text": [
      "[[nan, nan, nan], [-0.5, 0.5, 5.551115123125783e-18]]\n"
     ]
    }
   ],
   "source": [
    "# TODO: make it faster!\n",
    "scale = []\n",
    "\n",
    "for i in range(0,n):\n",
    "    scale.append( [x[:,i].min(), x[:,i].max(), x[:,i].mean()] )\n",
    "\n",
    "print( scale )"
   ]
  },
  {
   "cell_type": "code",
   "execution_count": 118,
   "metadata": {
    "collapsed": false,
    "scrolled": true
   },
   "outputs": [
    {
     "name": "stderr",
     "output_type": "stream",
     "text": [
      "/Users/sadegh/anaconda3/lib/python3.6/site-packages/ipykernel/__main__.py:3: RuntimeWarning: invalid value encountered in double_scalars\n",
      "  app.launch_new_instance()\n"
     ]
    }
   ],
   "source": [
    "for i in range(0, m):\n",
    "    for j in range(0, n):\n",
    "        x[i][j] = (x[i][j] - scale[j][2]) / (scale[j][1] - scale[j][0])"
   ]
  },
  {
   "cell_type": "code",
   "execution_count": 56,
   "metadata": {
    "collapsed": false,
    "scrolled": false
   },
   "outputs": [
    {
     "name": "stdout",
     "output_type": "stream",
     "text": [
      "0.0\n",
      "[[ -6.77671215e+10  -4.24939553e+11]]\n"
     ]
    }
   ],
   "source": [
    "iterCount = 10\n",
    "alpha = .5\n",
    "theta = np.array(n * [1]).reshape( (1, n) )\n",
    "\n",
    "\n",
    "print(x[:,1].min())\n",
    "\n",
    "for _ in range(0, iterCount):\n",
    "#     print( theta )\n",
    "    h = np.dot(x , theta.T).T\n",
    "    loss = h - y.T\n",
    "    gradient = np.dot(loss , x)\n",
    "    theta = theta - alpha * gradient / m\n",
    "    \n",
    "print( theta )\n"
   ]
  },
  {
   "cell_type": "code",
   "execution_count": 7,
   "metadata": {
    "collapsed": false
   },
   "outputs": [],
   "source": [
    "# sns.regplot(sample[:,0], sample[:,1], color='red')"
   ]
  }
 ],
 "metadata": {
  "kernelspec": {
   "display_name": "Python 3",
   "language": "python",
   "name": "python3"
  },
  "language_info": {
   "codemirror_mode": {
    "name": "ipython",
    "version": 3
   },
   "file_extension": ".py",
   "mimetype": "text/x-python",
   "name": "python",
   "nbconvert_exporter": "python",
   "pygments_lexer": "ipython3",
   "version": "3.6.0"
  }
 },
 "nbformat": 4,
 "nbformat_minor": 2
}
