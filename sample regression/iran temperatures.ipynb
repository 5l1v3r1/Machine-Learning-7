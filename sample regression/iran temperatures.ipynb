{
 "cells": [
  {
   "cell_type": "code",
   "execution_count": 1,
   "metadata": {
    "collapsed": true
   },
   "outputs": [],
   "source": [
    "%matplotlib inline"
   ]
  },
  {
   "cell_type": "code",
   "execution_count": 2,
   "metadata": {
    "collapsed": true
   },
   "outputs": [],
   "source": [
    "import numpy as np\n",
    "import pandas as pd\n",
    "import seaborn as sns\n",
    "from scipy import stats\n",
    "import matplotlib as mpl\n",
    "import matplotlib.pyplot as plt"
   ]
  },
  {
   "cell_type": "code",
   "execution_count": 3,
   "metadata": {
    "collapsed": true
   },
   "outputs": [],
   "source": [
    "fData = pd.read_csv('../data/GlobalLandTemperaturesByCountry.csv')\n",
    "fData['dt'] = pd.to_datetime( fData['dt'], format='%Y-%d-%m', errors='ignore' )\n",
    "fData = fData[ fData['AverageTemperature'].notnull() ]"
   ]
  },
  {
   "cell_type": "code",
   "execution_count": 8,
   "metadata": {
    "collapsed": false
   },
   "outputs": [],
   "source": [
    "iranData = fData[ fData['Country'] == 'Iran' ]\n",
    "iranData = iranData.drop('AverageTemperatureUncertainty', 1)\n",
    "iranData = iranData.drop('Country', 1)"
   ]
  },
  {
   "cell_type": "code",
   "execution_count": 9,
   "metadata": {
    "collapsed": false,
    "scrolled": true
   },
   "outputs": [
    {
     "data": {
      "text/html": [
       "<div>\n",
       "<table border=\"1\" class=\"dataframe\">\n",
       "  <thead>\n",
       "    <tr style=\"text-align: right;\">\n",
       "      <th></th>\n",
       "      <th>dt</th>\n",
       "      <th>AverageTemperature</th>\n",
       "    </tr>\n",
       "  </thead>\n",
       "  <tbody>\n",
       "    <tr>\n",
       "      <th>248573</th>\n",
       "      <td>1837-01-02</td>\n",
       "      <td>6.965</td>\n",
       "    </tr>\n",
       "    <tr>\n",
       "      <th>248574</th>\n",
       "      <td>1837-01-03</td>\n",
       "      <td>11.100</td>\n",
       "    </tr>\n",
       "    <tr>\n",
       "      <th>248575</th>\n",
       "      <td>1837-01-04</td>\n",
       "      <td>16.112</td>\n",
       "    </tr>\n",
       "    <tr>\n",
       "      <th>248576</th>\n",
       "      <td>1837-01-05</td>\n",
       "      <td>21.845</td>\n",
       "    </tr>\n",
       "    <tr>\n",
       "      <th>248577</th>\n",
       "      <td>1837-01-06</td>\n",
       "      <td>26.454</td>\n",
       "    </tr>\n",
       "  </tbody>\n",
       "</table>\n",
       "</div>"
      ],
      "text/plain": [
       "               dt  AverageTemperature\n",
       "248573 1837-01-02               6.965\n",
       "248574 1837-01-03              11.100\n",
       "248575 1837-01-04              16.112\n",
       "248576 1837-01-05              21.845\n",
       "248577 1837-01-06              26.454"
      ]
     },
     "execution_count": 9,
     "metadata": {},
     "output_type": "execute_result"
    }
   ],
   "source": [
    "iranData.head()"
   ]
  },
  {
   "cell_type": "code",
   "execution_count": 10,
   "metadata": {
    "collapsed": false
   },
   "outputs": [
    {
     "name": "stdout",
     "output_type": "stream",
     "text": [
      "[[Timestamp('1837-01-02 00:00:00') 6.965]\n",
      " [Timestamp('1837-01-03 00:00:00') 11.1]\n",
      " [Timestamp('1837-01-04 00:00:00') 16.112000000000002]\n",
      " ..., \n",
      " [Timestamp('2013-01-06 00:00:00') 29.361]\n",
      " [Timestamp('2013-01-07 00:00:00') 31.459]\n",
      " [Timestamp('2013-01-08 00:00:00') 29.47300000000001]]\n"
     ]
    }
   ],
   "source": [
    "dataMatrix = iranData.as_matrix()\n",
    "print( dataMatrix )"
   ]
  },
  {
   "cell_type": "code",
   "execution_count": 12,
   "metadata": {
    "collapsed": false,
    "scrolled": false
   },
   "outputs": [
    {
     "data": {
      "text/plain": [
       "array([[1.0, Timestamp('1837-01-02 00:00:00')],\n",
       "       [1.0, Timestamp('1837-01-03 00:00:00')],\n",
       "       [1.0, Timestamp('1837-01-04 00:00:00')],\n",
       "       ..., \n",
       "       [1.0, Timestamp('2013-01-06 00:00:00')],\n",
       "       [1.0, Timestamp('2013-01-07 00:00:00')],\n",
       "       [1.0, Timestamp('2013-01-08 00:00:00')]], dtype=object)"
      ]
     },
     "execution_count": 12,
     "metadata": {},
     "output_type": "execute_result"
    }
   ],
   "source": [
    "data = dataMatrix\n",
    "n = 2\n",
    "m = data.shape[0]\n",
    "\n",
    "theta = np.array(n * [0])\n",
    "\n",
    "x = data[:, :n-1]\n",
    "x = np.concatenate((np.ones((1,m)), x.T)).T\n",
    "x\n"
   ]
  }
 ],
 "metadata": {
  "kernelspec": {
   "display_name": "Python 3",
   "language": "python",
   "name": "python3"
  },
  "language_info": {
   "codemirror_mode": {
    "name": "ipython",
    "version": 3
   },
   "file_extension": ".py",
   "mimetype": "text/x-python",
   "name": "python",
   "nbconvert_exporter": "python",
   "pygments_lexer": "ipython3",
   "version": "3.6.0"
  }
 },
 "nbformat": 4,
 "nbformat_minor": 2
}
